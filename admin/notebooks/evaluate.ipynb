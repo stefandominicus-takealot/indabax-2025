{
 "cells": [
  {
   "cell_type": "markdown",
   "id": "257f146d",
   "metadata": {},
   "source": [
    "# TFX Evaluation"
   ]
  },
  {
   "cell_type": "code",
   "execution_count": null,
   "id": "e09711d0",
   "metadata": {},
   "outputs": [],
   "source": [
    "from importlib import reload\n",
    "from pathlib import Path\n",
    "from typing import cast\n",
    "\n",
    "import tensorflow_model_analysis as tfma\n",
    "from absl import logging\n",
    "from google.cloud.storage import Client as GCSClient\n",
    "from google.cloud.storage.blob import Blob\n",
    "from tfx import v1 as tfx\n",
    "from tfx.components import CsvExampleGen, Evaluator, SchemaGen, StatisticsGen\n",
    "from tfx.dsl.components.common.importer import IMPORT_RESULT_KEY, Importer\n",
    "from tfx.orchestration.experimental.interactive.interactive_context import (\n",
    "    InteractiveContext,\n",
    ")\n",
    "from tfx.types.standard_artifacts import Model\n",
    "from tfx.types.standard_component_specs import (\n",
    "    EVALUATION_KEY,\n",
    "    EXAMPLES_KEY,\n",
    "    SCHEMA_KEY,\n",
    "    STATISTICS_KEY,\n",
    ")\n",
    "\n",
    "from recommender_systems import evaluator_module\n",
    "from recommender_systems.features import ProductFeatures\n",
    "from recommender_systems.splits import Splits\n",
    "\n",
    "logging.set_verbosity(logging.INFO)\n",
    "\n",
    "DATA = Path.cwd().parent / \"data\"\n",
    "\n",
    "PIPELINE_NAME = \"evaluate\"\n",
    "\n",
    "context = InteractiveContext(\n",
    "    pipeline_name=PIPELINE_NAME,\n",
    "    pipeline_root=str(Path(\"pipeline-root\") / PIPELINE_NAME),\n",
    ")"
   ]
  },
  {
   "cell_type": "markdown",
   "id": "61d04226",
   "metadata": {},
   "source": [
    "## Ingest Reviews"
   ]
  },
  {
   "cell_type": "markdown",
   "id": "cb713355",
   "metadata": {},
   "source": [
    "### Examples"
   ]
  },
  {
   "cell_type": "code",
   "execution_count": null,
   "id": "4cf43d1e",
   "metadata": {},
   "outputs": [],
   "source": [
    "reviews_example_gen_component = CsvExampleGen(\n",
    "    input_base=str(DATA / \"reviews\"),\n",
    "    input_config=tfx.proto.Input(\n",
    "        splits=[tfx.proto.Input.Split(name=Splits.TEST, pattern=\"test.csv\")]\n",
    "    ),\n",
    "    output_config=tfx.proto.Output(\n",
    "        split_config=tfx.proto.SplitConfig(\n",
    "            splits=[tfx.proto.SplitConfig.Split(name=Splits.TEST, hash_buckets=1)]\n",
    "        )\n",
    "    ),\n",
    ")\n",
    "context.run(reviews_example_gen_component, enable_cache=True)"
   ]
  },
  {
   "cell_type": "markdown",
   "id": "52e23846",
   "metadata": {},
   "source": [
    "### Statistics"
   ]
  },
  {
   "cell_type": "code",
   "execution_count": null,
   "id": "02f7ff26",
   "metadata": {},
   "outputs": [],
   "source": [
    "reviews_statistics_gen_component = StatisticsGen(\n",
    "    examples=reviews_example_gen_component.outputs[EXAMPLES_KEY]\n",
    ")\n",
    "context.run(reviews_statistics_gen_component, enable_cache=True)"
   ]
  },
  {
   "cell_type": "code",
   "execution_count": null,
   "id": "dfa2db67",
   "metadata": {},
   "outputs": [],
   "source": [
    "context.show(reviews_statistics_gen_component.outputs[STATISTICS_KEY])"
   ]
  },
  {
   "cell_type": "markdown",
   "id": "48a94f12",
   "metadata": {},
   "source": [
    "### Schema"
   ]
  },
  {
   "cell_type": "code",
   "execution_count": null,
   "id": "d7351a08",
   "metadata": {},
   "outputs": [],
   "source": [
    "reviews_schema_gen_component = SchemaGen(\n",
    "    statistics=reviews_statistics_gen_component.outputs[STATISTICS_KEY]\n",
    ")\n",
    "context.run(reviews_schema_gen_component, enable_cache=True)"
   ]
  },
  {
   "cell_type": "code",
   "execution_count": null,
   "id": "87ba1084",
   "metadata": {},
   "outputs": [],
   "source": [
    "context.show(reviews_schema_gen_component.outputs[SCHEMA_KEY])"
   ]
  },
  {
   "cell_type": "markdown",
   "id": "35f2e9b6",
   "metadata": {},
   "source": [
    "## Evaluate Model"
   ]
  },
  {
   "cell_type": "code",
   "execution_count": 2,
   "id": "b186e357",
   "metadata": {},
   "outputs": [],
   "source": [
    "PARTICIPANT = \"stefan-dominicus\""
   ]
  },
  {
   "cell_type": "code",
   "execution_count": null,
   "id": "458d15d7",
   "metadata": {},
   "outputs": [],
   "source": [
    "blobs: list[Blob] = sorted(\n",
    "    GCSClient(project=\"tal-deep-learning-indabax\").list_blobs(\n",
    "        bucket_or_name=\"tal-deep-learning-indabax-models\",\n",
    "        prefix=f\"{PARTICIPANT}/recommender_systems/\",\n",
    "        match_glob=\"**/saved_model.pb\",\n",
    "    ),\n",
    "    key=lambda b: b.generation,\n",
    ")\n",
    "assert blobs, \"No models found in GCS bucket.\"\n",
    "source_uri = cast(str, blobs[-1].path).removesuffix(\"/saved_model.pb\")\n",
    "\n",
    "model_importer_component = Importer(\n",
    "    source_uri=source_uri, artifact_type=Model, reimport=True\n",
    ")\n",
    "context.run(model_importer_component, enable_cache=True)"
   ]
  },
  {
   "cell_type": "code",
   "execution_count": null,
   "id": "2eeebbe1",
   "metadata": {},
   "outputs": [],
   "source": [
    "reload(evaluator_module)\n",
    "\n",
    "evaluator_component = Evaluator(\n",
    "    examples=reviews_example_gen_component.outputs[EXAMPLES_KEY],\n",
    "    model=model_importer_component.outputs[IMPORT_RESULT_KEY],\n",
    "    example_splits=[Splits.TEST],\n",
    "    eval_config=tfma.EvalConfig(\n",
    "        metrics_specs=[\n",
    "            tfma.MetricsSpec(\n",
    "                metrics=[\n",
    "                    tfma.MetricConfig(\n",
    "                        class_name=\"TopKAccuracy\",\n",
    "                        module=evaluator_module.__name__,\n",
    "                    ),\n",
    "                ],\n",
    "            ),\n",
    "        ],\n",
    "        model_specs=[\n",
    "            tfma.ModelSpec(\n",
    "                label_key=ProductFeatures.ID,\n",
    "                signature_name=\"evaluate_products_for_customer\",\n",
    "            ),\n",
    "        ],\n",
    "    ),\n",
    "    schema=reviews_schema_gen_component.outputs[SCHEMA_KEY],\n",
    "    module_file=evaluator_module.__file__,\n",
    ")\n",
    "context.run(evaluator_component, enable_cache=False)"
   ]
  },
  {
   "cell_type": "code",
   "execution_count": null,
   "id": "707f9283",
   "metadata": {},
   "outputs": [],
   "source": [
    "output_path = evaluator_component.outputs[EVALUATION_KEY].get()[0].uri\n",
    "\n",
    "# Load the evaluation result\n",
    "eval_result = tfma.load_eval_result(output_path)\n",
    "print(\"EvalResult:\", eval_result)\n",
    "print(\"\\nMetrics:\", eval_result.get_metrics_for_slice())"
   ]
  },
  {
   "cell_type": "markdown",
   "id": "15e69f03",
   "metadata": {},
   "source": [
    "All done!"
   ]
  }
 ],
 "metadata": {
  "kernelspec": {
   "display_name": "indabax-2025",
   "language": "python",
   "name": "python3"
  },
  "language_info": {
   "codemirror_mode": {
    "name": "ipython",
    "version": 3
   },
   "file_extension": ".py",
   "mimetype": "text/x-python",
   "name": "python",
   "nbconvert_exporter": "python",
   "pygments_lexer": "ipython3",
   "version": "3.10.17"
  }
 },
 "nbformat": 4,
 "nbformat_minor": 5
}
