{
 "cells": [
  {
   "cell_type": "markdown",
   "id": "0af8b92c",
   "metadata": {},
   "source": [
    "# Recommender Systems Workshop\n",
    "*Presented by Stefan Dominicus at Deep Learning IndabaX 2025.*\n",
    "\n",
    "# Part 2: TFX Pipeline & Tensorflow Recommenders\n",
    "In this notebook, we'll build a TFX pipeline that trains a personalised recommender using the Tensorflow Recommenders two-tower model architecture.\n",
    "\n",
    "Relevant Guides:\n",
    "- https://www.tensorflow.org/recommenders/examples/basic_retrieval\n",
    "- https://www.tensorflow.org/tfx/tutorials/tfx/recommenders"
   ]
  },
  {
   "cell_type": "code",
   "execution_count": null,
   "id": "42838c3d",
   "metadata": {},
   "outputs": [],
   "source": [
    "from importlib import reload\n",
    "from pathlib import Path\n",
    "\n",
    "import pandas as pd\n",
    "import tensorflow as tf\n",
    "import tensorflow_model_analysis as tfma\n",
    "from absl import logging\n",
    "from tfx import v1 as tfx\n",
    "from tfx.components import (\n",
    "    CsvExampleGen,\n",
    "    Evaluator,\n",
    "    Pusher,\n",
    "    SchemaGen,\n",
    "    StatisticsGen,\n",
    "    Transform,\n",
    ")\n",
    "from tfx.orchestration.experimental.interactive.interactive_context import (\n",
    "    InteractiveContext,\n",
    ")\n",
    "from tfx.types.standard_component_specs import (\n",
    "    BLESSING_KEY,\n",
    "    EVALUATION_KEY,\n",
    "    EXAMPLES_KEY,\n",
    "    MODEL_KEY,\n",
    "    POST_TRANSFORM_SCHEMA_KEY,\n",
    "    SCHEMA_KEY,\n",
    "    STATISTICS_KEY,\n",
    "    TRANSFORM_GRAPH_KEY,\n",
    "    TRANSFORMED_EXAMPLES_KEY,\n",
    ")\n",
    "\n",
    "from recommender_systems import evaluator_module, trainer_module, transform_module\n",
    "from recommender_systems.features import ProductFeatures\n",
    "from recommender_systems.splits import Splits\n",
    "from tfx_tfrs.trainer import Trainer\n",
    "\n",
    "logging.set_verbosity(logging.INFO)\n",
    "\n",
    "DATA = Path.cwd().parent / \"data\"\n",
    "\n",
    "PIPELINE_NAME = \"recommender_systems\"\n",
    "\n",
    "context = InteractiveContext(\n",
    "    pipeline_name=PIPELINE_NAME,\n",
    "    pipeline_root=str(Path(\"pipeline-root\") / PIPELINE_NAME),\n",
    ")\n",
    "\n",
    "%load_ext tensorboard"
   ]
  },
  {
   "cell_type": "markdown",
   "id": "0eacbf28",
   "metadata": {},
   "source": [
    "Set `PARTICIPANT` below so that your trained models can be identified in the Google Cloud Storage bucket."
   ]
  },
  {
   "cell_type": "code",
   "execution_count": null,
   "id": "8afb8a6b",
   "metadata": {},
   "outputs": [],
   "source": [
    "# TODO[IndabaX]: Enter your name here\n",
    "PARTICIPANT = \"stefan-dominicus\""
   ]
  },
  {
   "cell_type": "markdown",
   "id": "84010ab4",
   "metadata": {},
   "source": [
    "## Ingest Reviews"
   ]
  },
  {
   "cell_type": "markdown",
   "id": "e0dbe17d",
   "metadata": {},
   "source": [
    "### Examples\n",
    "Docs:\n",
    "- https://www.tensorflow.org/tfx/guide/examplegen\n",
    "- https://www.tensorflow.org/tfx/api_docs/python/tfx/v1/components/CsvExampleGen\n",
    "- https://github.com/tensorflow/tfx/blob/master/tfx/proto/example_gen.proto"
   ]
  },
  {
   "cell_type": "code",
   "execution_count": null,
   "id": "0c76c9b2",
   "metadata": {},
   "outputs": [],
   "source": [
    "reviews_example_gen_component = CsvExampleGen(\n",
    "    input_base=str(DATA / \"reviews\"),\n",
    "    input_config=tfx.proto.Input(\n",
    "        splits=[\n",
    "            tfx.proto.Input.Split(name=split, pattern=f\"{split}.csv\")\n",
    "            for split in [Splits.TRAIN, Splits.VALIDATION]\n",
    "        ]\n",
    "    ),\n",
    ")\n",
    "context.run(reviews_example_gen_component, enable_cache=True)"
   ]
  },
  {
   "cell_type": "markdown",
   "id": "7753d1c6",
   "metadata": {},
   "source": [
    "### Statistics\n",
    "Docs:\n",
    "- https://www.tensorflow.org/tfx/guide/statsgen\n",
    "- https://www.tensorflow.org/tfx/api_docs/python/tfx/v1/components/StatisticsGen"
   ]
  },
  {
   "cell_type": "code",
   "execution_count": null,
   "id": "5e2418f4",
   "metadata": {},
   "outputs": [],
   "source": [
    "reviews_statistics_gen_component = StatisticsGen(\n",
    "    examples=reviews_example_gen_component.outputs[EXAMPLES_KEY]\n",
    ")\n",
    "context.run(reviews_statistics_gen_component, enable_cache=True)"
   ]
  },
  {
   "cell_type": "code",
   "execution_count": null,
   "id": "98eefc82",
   "metadata": {},
   "outputs": [],
   "source": [
    "context.show(reviews_statistics_gen_component.outputs[STATISTICS_KEY])"
   ]
  },
  {
   "cell_type": "markdown",
   "id": "6cf9096c",
   "metadata": {},
   "source": [
    "### Schema\n",
    "Docs:\n",
    "- https://www.tensorflow.org/tfx/guide/schemagen\n",
    "- https://www.tensorflow.org/tfx/api_docs/python/tfx/v1/components/SchemaGen"
   ]
  },
  {
   "cell_type": "code",
   "execution_count": null,
   "id": "0b10f2bb",
   "metadata": {},
   "outputs": [],
   "source": [
    "reviews_schema_gen_component = SchemaGen(\n",
    "    statistics=reviews_statistics_gen_component.outputs[STATISTICS_KEY]\n",
    ")\n",
    "context.run(reviews_schema_gen_component, enable_cache=True)"
   ]
  },
  {
   "cell_type": "code",
   "execution_count": null,
   "id": "5813845e",
   "metadata": {},
   "outputs": [],
   "source": [
    "context.show(reviews_schema_gen_component.outputs[SCHEMA_KEY])"
   ]
  },
  {
   "cell_type": "markdown",
   "id": "31f9f3bc",
   "metadata": {},
   "source": [
    "## Transform Reviews\n",
    "This is one of the most significant benefits of the TFX framework - the ability to clearly define feature transformations which are performant during training, and repeatable in production."
   ]
  },
  {
   "cell_type": "markdown",
   "id": "57e69997",
   "metadata": {},
   "source": [
    "### Transform\n",
    "Docs:\n",
    "- https://www.tensorflow.org/tfx/guide/transform\n",
    "- https://www.tensorflow.org/tfx/api_docs/python/tfx/v1/components/Transform"
   ]
  },
  {
   "cell_type": "code",
   "execution_count": null,
   "id": "991396c3",
   "metadata": {},
   "outputs": [],
   "source": [
    "# TODO[IndabaX]: Open `recommender_systems/transform_module.py`\n",
    "\n",
    "reload(transform_module)\n",
    "\n",
    "transform_component = Transform(\n",
    "    examples=reviews_example_gen_component.outputs[EXAMPLES_KEY],\n",
    "    schema=reviews_schema_gen_component.outputs[SCHEMA_KEY],\n",
    "    module_file=transform_module.__file__,\n",
    "    splits_config=tfx.proto.SplitsConfig(\n",
    "        # Analyse all splits for full vocabulary coverage (default: train only)\n",
    "        analyze=[Splits.TRAIN, Splits.VALIDATION],\n",
    "        # Transform (and materialise) examples from all splits (default)\n",
    "        transform=[Splits.TRAIN, Splits.VALIDATION],\n",
    "    ),\n",
    ")\n",
    "context.run(transform_component, enable_cache=True)"
   ]
  },
  {
   "cell_type": "markdown",
   "id": "e24383fd",
   "metadata": {},
   "source": [
    "### Statistics\n",
    "Docs:\n",
    "- https://www.tensorflow.org/tfx/guide/statsgen\n",
    "- https://www.tensorflow.org/tfx/api_docs/python/tfx/v1/components/StatisticsGen"
   ]
  },
  {
   "cell_type": "code",
   "execution_count": null,
   "id": "5a6dc020",
   "metadata": {},
   "outputs": [],
   "source": [
    "post_transform_statistics_gen_component = StatisticsGen(\n",
    "    examples=transform_component.outputs[TRANSFORMED_EXAMPLES_KEY]\n",
    ")\n",
    "context.run(post_transform_statistics_gen_component, enable_cache=True)"
   ]
  },
  {
   "cell_type": "code",
   "execution_count": null,
   "id": "8a3a2d3b",
   "metadata": {},
   "outputs": [],
   "source": [
    "context.show(post_transform_statistics_gen_component.outputs[STATISTICS_KEY])"
   ]
  },
  {
   "cell_type": "markdown",
   "id": "0d9e587f",
   "metadata": {},
   "source": [
    "### Schema"
   ]
  },
  {
   "cell_type": "code",
   "execution_count": null,
   "id": "3e4fab94",
   "metadata": {},
   "outputs": [],
   "source": [
    "context.show(transform_component.outputs[POST_TRANSFORM_SCHEMA_KEY])"
   ]
  },
  {
   "cell_type": "markdown",
   "id": "f376d25c",
   "metadata": {},
   "source": [
    "## Ingest Products"
   ]
  },
  {
   "cell_type": "markdown",
   "id": "9d66d0ce",
   "metadata": {},
   "source": [
    "### Examples\n",
    "Docs:\n",
    "- https://www.tensorflow.org/tfx/guide/examplegen\n",
    "- https://www.tensorflow.org/tfx/api_docs/python/tfx/v1/components/CsvExampleGen\n",
    "- https://github.com/tensorflow/tfx/blob/master/tfx/proto/example_gen.proto"
   ]
  },
  {
   "cell_type": "code",
   "execution_count": null,
   "id": "b7161a71",
   "metadata": {},
   "outputs": [],
   "source": [
    "product_example_gen_component = CsvExampleGen(\n",
    "    input_base=str(DATA),\n",
    "    input_config=tfx.proto.Input(\n",
    "        splits=[tfx.proto.Input.Split(name=Splits.SINGLE, pattern=\"products.csv\")]\n",
    "    ),\n",
    "    output_config=tfx.proto.Output(\n",
    "        split_config=tfx.proto.SplitConfig(\n",
    "            splits=[tfx.proto.SplitConfig.Split(name=Splits.SINGLE, hash_buckets=1)]\n",
    "        )\n",
    "    ),\n",
    ")\n",
    "context.run(product_example_gen_component, enable_cache=True)"
   ]
  },
  {
   "cell_type": "markdown",
   "id": "03cf564c",
   "metadata": {},
   "source": [
    "### Statistics\n",
    "Docs:\n",
    "- https://www.tensorflow.org/tfx/guide/statsgen\n",
    "- https://www.tensorflow.org/tfx/api_docs/python/tfx/v1/components/StatisticsGen"
   ]
  },
  {
   "cell_type": "code",
   "execution_count": null,
   "id": "5c2198ec",
   "metadata": {},
   "outputs": [],
   "source": [
    "product_statistics_gen_component = StatisticsGen(\n",
    "    examples=product_example_gen_component.outputs[EXAMPLES_KEY]\n",
    ")\n",
    "context.run(product_statistics_gen_component, enable_cache=True)"
   ]
  },
  {
   "cell_type": "code",
   "execution_count": null,
   "id": "03abf255",
   "metadata": {},
   "outputs": [],
   "source": [
    "context.show(product_statistics_gen_component.outputs[STATISTICS_KEY])"
   ]
  },
  {
   "cell_type": "markdown",
   "id": "68d3afe9",
   "metadata": {},
   "source": [
    "### Schema\n",
    "Docs:\n",
    "- https://www.tensorflow.org/tfx/guide/schemagen\n",
    "- https://www.tensorflow.org/tfx/api_docs/python/tfx/v1/components/SchemaGen"
   ]
  },
  {
   "cell_type": "code",
   "execution_count": null,
   "id": "1da02bd1",
   "metadata": {},
   "outputs": [],
   "source": [
    "product_schema_gen_component = SchemaGen(\n",
    "    statistics=product_statistics_gen_component.outputs[STATISTICS_KEY]\n",
    ")\n",
    "context.run(product_schema_gen_component, enable_cache=True)"
   ]
  },
  {
   "cell_type": "code",
   "execution_count": null,
   "id": "599da3d1",
   "metadata": {},
   "outputs": [],
   "source": [
    "context.show(product_schema_gen_component.outputs[SCHEMA_KEY])"
   ]
  },
  {
   "cell_type": "markdown",
   "id": "2e394e76",
   "metadata": {},
   "source": [
    "## Train Model"
   ]
  },
  {
   "cell_type": "markdown",
   "id": "2f4024e1",
   "metadata": {},
   "source": [
    "### Trainer\n",
    "Docs:\n",
    "- https://www.tensorflow.org/tfx/guide/trainer\n",
    "- https://www.tensorflow.org/tfx/api_docs/python/tfx/v1/components/Trainer\n",
    "- https://github.com/tensorflow/tfx/blob/master/tfx/proto/trainer.proto"
   ]
  },
  {
   "cell_type": "code",
   "execution_count": null,
   "id": "501e9373",
   "metadata": {},
   "outputs": [],
   "source": [
    "# TODO[IndabaX]: Open `recommender_systems/trainer_module.py`\n",
    "\n",
    "reload(trainer_module)\n",
    "\n",
    "trainer_component = Trainer(\n",
    "    examples=transform_component.outputs[TRANSFORMED_EXAMPLES_KEY],\n",
    "    transform_graph=transform_component.outputs[TRANSFORM_GRAPH_KEY],\n",
    "    schema=transform_component.outputs[POST_TRANSFORM_SCHEMA_KEY],\n",
    "    item_examples=product_example_gen_component.outputs[EXAMPLES_KEY],\n",
    "    item_schema=product_schema_gen_component.outputs[SCHEMA_KEY],\n",
    "    module_file=trainer_module.__file__,\n",
    "    train_args=tfx.proto.TrainArgs(splits=[Splits.TRAIN]),\n",
    "    eval_args=tfx.proto.EvalArgs(splits=[Splits.VALIDATION]),\n",
    "    custom_config=dict(\n",
    "        # NOTE: `tensorboard_log_dir` must match in the next cell\n",
    "        tensorboard_log_dir=\"tensorboard\",\n",
    "    ),\n",
    ")\n",
    "context.run(trainer_component, enable_cache=False)"
   ]
  },
  {
   "cell_type": "markdown",
   "id": "a81748e7",
   "metadata": {},
   "source": [
    "Use TensorBoard to view the training and validation metrics."
   ]
  },
  {
   "cell_type": "code",
   "execution_count": null,
   "id": "50da0c90",
   "metadata": {},
   "outputs": [],
   "source": [
    "%tensorboard --logdir tensorboard"
   ]
  },
  {
   "cell_type": "markdown",
   "id": "c563de6b",
   "metadata": {},
   "source": [
    "### Evaluator\n",
    "Docs:\n",
    "- https://www.tensorflow.org/tfx/guide/evaluator\n",
    "- https://www.tensorflow.org/tfx/api_docs/python/tfx/v1/components/Evaluator\n",
    "- https://github.com/tensorflow/tfx/blob/master/tfx/proto/evaluator.proto"
   ]
  },
  {
   "cell_type": "code",
   "execution_count": null,
   "id": "5cb74d5d",
   "metadata": {},
   "outputs": [],
   "source": [
    "# TODO[IndabaX]: Open `recommender_systems/evaluator_module.py`\n",
    "# TODO[IndabaX]: Consider referencing a baseline model for validation\n",
    "\n",
    "reload(evaluator_module)\n",
    "\n",
    "evaluator_component = Evaluator(\n",
    "    examples=reviews_example_gen_component.outputs[EXAMPLES_KEY],\n",
    "    model=trainer_component.outputs[MODEL_KEY],\n",
    "    example_splits=[Splits.VALIDATION],\n",
    "    eval_config=tfma.EvalConfig(\n",
    "        metrics_specs=[\n",
    "            tfma.MetricsSpec(\n",
    "                metrics=[\n",
    "                    tfma.MetricConfig(\n",
    "                        class_name=\"ExampleCount\",\n",
    "                        threshold=tfma.MetricThreshold(\n",
    "                            value_threshold=tfma.GenericValueThreshold(\n",
    "                                lower_bound=dict(value=1)\n",
    "                            ),\n",
    "                        ),\n",
    "                    ),\n",
    "                    tfma.MetricConfig(\n",
    "                        class_name=\"TopKAccuracy\",\n",
    "                        module=evaluator_module.__name__,\n",
    "                    ),\n",
    "                ],\n",
    "            ),\n",
    "        ],\n",
    "        model_specs=[\n",
    "            tfma.ModelSpec(\n",
    "                label_key=ProductFeatures.ID,\n",
    "                signature_name=\"evaluate_products_for_customer\",\n",
    "            ),\n",
    "        ],\n",
    "    ),\n",
    "    schema=reviews_schema_gen_component.outputs[SCHEMA_KEY],\n",
    ")\n",
    "context.run(evaluator_component, enable_cache=False)"
   ]
  },
  {
   "cell_type": "markdown",
   "id": "417d6105",
   "metadata": {},
   "source": [
    "The TFX Evaluator uses Tensorflow Model Analysis under the hood. We can use the same library to inspect the evaluation output."
   ]
  },
  {
   "cell_type": "code",
   "execution_count": null,
   "id": "f827eaa0",
   "metadata": {},
   "outputs": [],
   "source": [
    "output_path = evaluator_component.outputs[EVALUATION_KEY].get()[0].uri\n",
    "\n",
    "# Load the evaluation result\n",
    "eval_result = tfma.load_eval_result(output_path)\n",
    "print(\"\\n📈 EvalResult:\\n\", eval_result)\n",
    "\n",
    "# Load the evaluation metrics\n",
    "metrics = tfma.load_metrics(output_path)\n",
    "print(\"\\n🎯 Metrics:\\n\", list(metrics))\n",
    "\n",
    "# Load the validation results\n",
    "validation_result = tfma.load_validation_result(output_path)\n",
    "print(\"\\n✅ ValidationResult:\\n\", validation_result)\n",
    "if not validation_result.validation_ok:\n",
    "    print(\"\\n❌ Validation failed (model not blessed).\")"
   ]
  },
  {
   "cell_type": "markdown",
   "id": "6a4dd740",
   "metadata": {},
   "source": [
    "Let's also inspect some results to get a sense of what the model may have learned."
   ]
  },
  {
   "cell_type": "code",
   "execution_count": null,
   "id": "cb47d01b",
   "metadata": {},
   "outputs": [],
   "source": [
    "# Load customers, and pick one at random\n",
    "customers = pd.read_csv(DATA / \"customers.csv\")\n",
    "random_customer_id = customers.sample(1)[\"customer_id\"].values[0]\n",
    "\n",
    "# Load products\n",
    "products = pd.read_csv(DATA / \"products.csv\")\n",
    "\n",
    "# Load reviews for the random customer\n",
    "reviews = pd.read_csv(DATA / \"reviews.csv\")\n",
    "reviews = reviews[reviews[\"customer_id\"] == random_customer_id]\n",
    "\n",
    "# Merge reviews with product titles, sort by timestamp, and drop unnecessary columns\n",
    "df = (\n",
    "    reviews.merge(products[[\"product_id\", \"product_title\"]], on=\"product_id\")\n",
    "    .sort_values(\"review_timestamp\", ascending=False)\n",
    "    .reset_index(drop=True)\n",
    "    .drop([\"review_id\", \"review_text\", \"review_timestamp\", \"customer_id\"], axis=1)\n",
    "    .rename(\n",
    "        columns={\n",
    "            \"product_id\": \"reviewed_product_id\",\n",
    "            \"product_title\": \"reviewed_product_title\",\n",
    "        }\n",
    "    )\n",
    ")\n",
    "\n",
    "\n",
    "# Load the trained model\n",
    "model = tf.saved_model.load(\n",
    "    # str(Path(trainer_component.outputs[MODEL_KEY].get()[0].uri) / \"Format-Serving\")\n",
    "    \"/home/stefan_dominicus_takealot_com/workspace/stefandominicus-takealot/indabax-2025/recommender_systems/notebooks/pipeline-root/recommender_systems/Trainer/model/9/Format-Serving\"\n",
    ").signatures[tf.saved_model.DEFAULT_SERVING_SIGNATURE_DEF_KEY]\n",
    "\n",
    "# Make predictions for the random customer\n",
    "prediction = model(customer_id=tf.constant(random_customer_id, shape=(1, 1)))\n",
    "recommended_product_ids = pd.Series(\n",
    "    prediction[\"product_ids\"].numpy().squeeze().astype(str).tolist(), name=\"product_id\"\n",
    ")\n",
    "\n",
    "# Merge the recommended product IDs with their products titles\n",
    "recommendations_for_customer = (\n",
    "    products[[\"product_id\", \"product_title\"]]\n",
    "    .merge(recommended_product_ids, on=\"product_id\")\n",
    "    .rename(\n",
    "        columns={\n",
    "            \"product_id\": \"recommended_product_id\",\n",
    "            \"product_title\": \"recommended_product_title\",\n",
    "        }\n",
    "    )\n",
    ")\n",
    "\n",
    "# Merge the reviews with the recommendations (so we can view them side-by-side)\n",
    "df = df.merge(\n",
    "    recommendations_for_customer, how=\"left\", left_index=True, right_index=True\n",
    ")\n",
    "df.head(20)"
   ]
  },
  {
   "cell_type": "markdown",
   "id": "4bccd2d2",
   "metadata": {},
   "source": [
    "Remember, you can view specific products on Takealot.com if you want more info."
   ]
  },
  {
   "cell_type": "code",
   "execution_count": null,
   "id": "9ca38ef6",
   "metadata": {},
   "outputs": [],
   "source": [
    "product_id = \"PLID95234247\"\n",
    "\n",
    "print(f\"https://takealot.com/abc/{product_id}\")"
   ]
  },
  {
   "cell_type": "markdown",
   "id": "4c8fb0ac",
   "metadata": {},
   "source": [
    "### Pusher\n",
    "Docs:\n",
    "- https://www.tensorflow.org/tfx/guide/pusher\n",
    "- https://www.tensorflow.org/tfx/api_docs/python/tfx/v1/components/Pusher\n",
    "- https://github.com/tensorflow/tfx/blob/master/tfx/proto/pusher.proto"
   ]
  },
  {
   "cell_type": "code",
   "execution_count": null,
   "id": "9e0f6bf5",
   "metadata": {},
   "outputs": [],
   "source": [
    "# TODO[IndabaX]: Make sure you've set `PARTICIPANT` to your name\n",
    "# TODO[IndabaX]: Consider using the validation result to avoid pushing bad models\n",
    "\n",
    "pusher_component = Pusher(\n",
    "    model=trainer_component.outputs[MODEL_KEY],\n",
    "    model_blessing=evaluator_component.outputs[BLESSING_KEY],\n",
    "    push_destination=tfx.proto.PushDestination(\n",
    "        filesystem=tfx.proto.PushDestination.Filesystem(\n",
    "            base_directory=f\"gs://tal-deep-learning-indabax-models/{PARTICIPANT}\",\n",
    "            versioning=tfx.proto.Versioning.UNIX_TIMESTAMP,\n",
    "        )\n",
    "    ),\n",
    ")\n",
    "context.run(pusher_component, enable_cache=True)"
   ]
  },
  {
   "cell_type": "markdown",
   "id": "31131481",
   "metadata": {},
   "source": [
    "Well done! Check the leaderboard to see how your model compares to others. If you have time, feel free to try improve your model's performance."
   ]
  }
 ],
 "metadata": {
  "kernelspec": {
   "display_name": "indabax-2025",
   "language": "python",
   "name": "python3"
  },
  "language_info": {
   "codemirror_mode": {
    "name": "ipython",
    "version": 3
   },
   "file_extension": ".py",
   "mimetype": "text/x-python",
   "name": "python",
   "nbconvert_exporter": "python",
   "pygments_lexer": "ipython3",
   "version": "3.10.17"
  }
 },
 "nbformat": 4,
 "nbformat_minor": 5
}
