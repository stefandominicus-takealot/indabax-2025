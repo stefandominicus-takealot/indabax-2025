{
 "cells": [
  {
   "cell_type": "markdown",
   "id": "ffc087e3",
   "metadata": {},
   "source": [
    "# Recommender Systems Workshop\n",
    "*Presented by Stefan Dominicus at Deep Learning IndabaX 2025.*\n",
    "\n",
    "# Part 1: Aggregation\n",
    "In this notebook, we explore an excerpt of Takealot.com's product reviews, and use it to build a simple \"Top Rated\" product recommendation mechanism."
   ]
  },
  {
   "cell_type": "code",
   "execution_count": null,
   "id": "d713700a",
   "metadata": {},
   "outputs": [],
   "source": [
    "from pathlib import Path\n",
    "\n",
    "import matplotlib.pyplot as plt\n",
    "import pandas as pd\n",
    "\n",
    "DATA = Path.cwd().parent / \"data\"\n",
    "\n",
    "# Customers leave star-ratings for products (1-5 stars).\n",
    "MAX_RATING = 5\n",
    "RATING_BINS = [i + 0.5 for i in range(MAX_RATING + 1)]"
   ]
  },
  {
   "cell_type": "markdown",
   "id": "7a139e62",
   "metadata": {},
   "source": [
    "# Exploratory Data Analysis\n",
    "Before we can build anything, we need to understand what data we have to work with. Understanding your data, and the systems that produce it, is critically important in any machine learning project."
   ]
  },
  {
   "cell_type": "markdown",
   "id": "e7c88b71",
   "metadata": {},
   "source": [
    "## Explore Products\n",
    "To begin with, load the `products.csv` dataset, and see what it contains."
   ]
  },
  {
   "cell_type": "code",
   "execution_count": null,
   "id": "fb0b419f",
   "metadata": {},
   "outputs": [],
   "source": [
    "products = pd.read_csv(DATA / \"products.csv\")\n",
    "\n",
    "products.head(10)"
   ]
  },
  {
   "cell_type": "markdown",
   "id": "61bd620a",
   "metadata": {},
   "source": [
    "If you want to know more about a product, you can view the product page on Takealot.com. Just set the `product_id` for the one you're interested in."
   ]
  },
  {
   "cell_type": "code",
   "execution_count": null,
   "id": "6e74979d",
   "metadata": {},
   "outputs": [],
   "source": [
    "product_id = \"PLID95234247\"\n",
    "\n",
    "print(f\"https://takealot.com/abc/{product_id}\")"
   ]
  },
  {
   "cell_type": "markdown",
   "id": "3661deb2",
   "metadata": {},
   "source": [
    "Let's get a sense of distribution of produces across brands and departments"
   ]
  },
  {
   "cell_type": "code",
   "execution_count": null,
   "id": "2ac7a24d",
   "metadata": {},
   "outputs": [],
   "source": [
    "products.groupby(\"product_brand\", sort=False, dropna=False).size().sort_values(\n",
    "    ascending=False\n",
    ").to_frame()"
   ]
  },
  {
   "cell_type": "code",
   "execution_count": null,
   "id": "f5cb56b7",
   "metadata": {},
   "outputs": [],
   "source": [
    "products.groupby(\"product_department\", sort=False, dropna=False).size().sort_values(\n",
    "    ascending=False\n",
    ").plot.bar()\n",
    "plt.title(\"Number of products per department\")\n",
    "plt.xlabel(\"Department\")\n",
    "plt.ylabel(\"Number of products\")\n",
    "\n",
    "plt.show()"
   ]
  },
  {
   "cell_type": "markdown",
   "id": "943fdf6b",
   "metadata": {},
   "source": [
    "## Explore Reviews\n",
    "Next, load the `reviews.csv` dataset, and see what it contains."
   ]
  },
  {
   "cell_type": "code",
   "execution_count": null,
   "id": "e33c8942",
   "metadata": {},
   "outputs": [],
   "source": [
    "reviews = pd.read_csv(DATA / \"reviews.csv\")\n",
    "\n",
    "reviews.head(10)"
   ]
  },
  {
   "cell_type": "markdown",
   "id": "ede67ad1",
   "metadata": {},
   "source": [
    "Let's plot the distribution of ⭐️ ratings."
   ]
  },
  {
   "cell_type": "code",
   "execution_count": null,
   "id": "e1002a52",
   "metadata": {},
   "outputs": [],
   "source": [
    "reviews[[\"review_rating\"]].plot.hist(bins=RATING_BINS)\n",
    "plt.title(\"Distribution of review ratings\")\n",
    "plt.xlabel(\"Rating\")\n",
    "\n",
    "plt.show()"
   ]
  },
  {
   "cell_type": "markdown",
   "id": "0ad8bdfa",
   "metadata": {},
   "source": [
    "This shows that the majority of reviews left by our customers are positive (4 or 5 ⭐️). Yay!\n",
    "\n",
    "What about our customers? Let's see how many products each of them has reviewed."
   ]
  },
  {
   "cell_type": "code",
   "execution_count": null,
   "id": "cf6caf2e",
   "metadata": {},
   "outputs": [],
   "source": [
    "reviews.groupby(\"customer_id\", sort=False).aggregate(\n",
    "    product_id_count=(\"product_id\", \"count\")\n",
    ").plot.hist(bins=[10 - 0.5 + i for i in range(12)])\n",
    "plt.title(\"Distribution of review counts per customer\")\n",
    "plt.xlabel(\"Number of reviews\")\n",
    "\n",
    "plt.show()"
   ]
  },
  {
   "cell_type": "markdown",
   "id": "f08c8284",
   "metadata": {},
   "source": [
    "We see that in this dataset, all customers have submitted between 10 and 20 reviews. What might you infer about our customer's from this bimodal distribution?\n",
    "\n",
    "Now consider all the reviews of each product. Let's compute the average rating, and number of reviews, and plot those distributions."
   ]
  },
  {
   "cell_type": "code",
   "execution_count": null,
   "id": "add3ee30",
   "metadata": {},
   "outputs": [],
   "source": [
    "review_aggregation_by_product = reviews.groupby(\"product_id\", sort=False).aggregate(\n",
    "    review_rating_mean=(\"review_rating\", \"mean\"),\n",
    "    review_rating_count=(\"review_rating\", \"count\"),\n",
    ")\n",
    "\n",
    "review_aggregation_by_product[[\"review_rating_mean\"]].plot.hist(bins=RATING_BINS)\n",
    "plt.title(\"Distribution of average review ratings per product\")\n",
    "plt.xlabel(\"Rating\")\n",
    "review_aggregation_by_product[[\"review_rating_count\"]].plot.hist(log=True)\n",
    "plt.title(\"Distribution of review counts per product\")\n",
    "plt.xlabel(\"Number of reviews\")\n",
    "\n",
    "plt.show()"
   ]
  },
  {
   "cell_type": "markdown",
   "id": "70d0287c",
   "metadata": {},
   "source": [
    "# Generate Recommendations"
   ]
  },
  {
   "cell_type": "code",
   "execution_count": null,
   "id": "3e592e95",
   "metadata": {},
   "outputs": [],
   "source": [
    "product_ratings = products.merge(\n",
    "    review_aggregation_by_product, left_on=\"product_id\", right_index=True\n",
    ").set_index(\"product_id\")\n",
    "\n",
    "product_ratings.head(10)"
   ]
  },
  {
   "cell_type": "markdown",
   "id": "b5c9041d",
   "metadata": {},
   "source": [
    "## Top Rated Products (Overall)"
   ]
  },
  {
   "cell_type": "code",
   "execution_count": null,
   "id": "4c95adb4",
   "metadata": {},
   "outputs": [],
   "source": [
    "# Show top rated products\n",
    "product_ratings.sort_values(by=\"review_rating_mean\", ascending=False).head(10)"
   ]
  },
  {
   "cell_type": "code",
   "execution_count": null,
   "id": "e9ea20c7",
   "metadata": {},
   "outputs": [],
   "source": [
    "# Now think about tie-breaking\n",
    "product_ratings.sort_values(\n",
    "    by=[\"review_rating_mean\", \"review_rating_count\"], ascending=False\n",
    ").head(10)"
   ]
  },
  {
   "cell_type": "code",
   "execution_count": null,
   "id": "b4ec7f8a",
   "metadata": {},
   "outputs": [],
   "source": [
    "# TODO[IndabaX]: Ignore for now, we'll come back to this later"
   ]
  },
  {
   "cell_type": "markdown",
   "id": "ef80a57e",
   "metadata": {},
   "source": [
    "## Top Rated Products (By Brand)"
   ]
  },
  {
   "cell_type": "code",
   "execution_count": null,
   "id": "d642cc9e",
   "metadata": {},
   "outputs": [],
   "source": [
    "# Show top rated products (with tie-breaking)\n",
    "product_ratings[product_ratings[\"product_brand\"] == \"BLACK+DECKER\"].sort_values(\n",
    "    by=[\"review_rating_mean\", \"review_rating_count\"], ascending=False\n",
    ").head(10)"
   ]
  },
  {
   "cell_type": "code",
   "execution_count": null,
   "id": "5e3d9636",
   "metadata": {},
   "outputs": [],
   "source": [
    "# TODO[IndabaX]: Ignore for now, we'll come back to this later"
   ]
  },
  {
   "cell_type": "markdown",
   "id": "4804c5b9",
   "metadata": {},
   "source": [
    "## Top Rated Products (By Department)"
   ]
  },
  {
   "cell_type": "code",
   "execution_count": null,
   "id": "d972d435",
   "metadata": {},
   "outputs": [],
   "source": [
    "# Show top rated products (with tie-breaking)\n",
    "product_ratings[\n",
    "    product_ratings[\"product_department\"] == \"Computers & Tablets\"\n",
    "].sort_values(by=[\"review_rating_mean\", \"review_rating_count\"], ascending=False).head(\n",
    "    10\n",
    ")"
   ]
  },
  {
   "cell_type": "code",
   "execution_count": null,
   "id": "ad59d58f",
   "metadata": {},
   "outputs": [],
   "source": [
    "# TODO[IndabaX]: Ignore for now, we'll come back to this later"
   ]
  },
  {
   "cell_type": "markdown",
   "id": "72289b54",
   "metadata": {},
   "source": [
    "## *What happens if a product has a 4.9⭐️ average rating from 50 reviews?*"
   ]
  },
  {
   "cell_type": "markdown",
   "id": "59ce2a7f",
   "metadata": {},
   "source": [
    "# A better way to order products by rating\n",
    "As a shopper, how confident can you be that a product's mean rating will be representative of _your_ individual experience?"
   ]
  },
  {
   "attachments": {
    "image.png": {
     "image/png": "[encoded data removed]"
    }
   },
   "cell_type": "markdown",
   "id": "132aeed1",
   "metadata": {},
   "source": [
    "## Laplace Rule of Succession\n",
    "> If we repeat an experiment that we know can result in a success or failure, _n_ times independently, and get _s_ successes, and _n − s_ failures, then what is the probability that the next repetition will succeed?\n",
    "\n",
    "Links:\n",
    " - Wikipedia page: https://en.wikipedia.org/wiki/Rule_of_succession\n",
    " - 3 Blue 1 Brown YouTube series: https://www.youtube.com/watch?v=8idr1WZ1A7Q\n",
    "\n",
    "![image.png](attachment:image.png)\n",
    "\n",
    "This rule is expressed for binary experiments (where the result is either a success or a failure). We make a few assumptions in order to apply this rule to our product ratings:\n",
    " - `s` (the number of previous successes for each product) is modeled as the mean rating multiplied by the number of reviews.\n",
    " - A 5 ⭐️ rating is considered to be the most \"successful\" interaction.\n",
    " - `n` is simply the number of previous reviews for each product."
   ]
  },
  {
   "cell_type": "code",
   "execution_count": null,
   "id": "20f2ea33",
   "metadata": {},
   "outputs": [],
   "source": [
    "# Compute the expected rating using Laplace Rule of Succession\n",
    "product_ratings[\"review_rating_expected\"] = (\n",
    "    (product_ratings[\"review_rating_mean\"] * product_ratings[\"review_rating_count\"])\n",
    "    + MAX_RATING\n",
    ") / (product_ratings[\"review_rating_count\"] + 2)"
   ]
  },
  {
   "cell_type": "markdown",
   "id": "14a1cf77",
   "metadata": {},
   "source": [
    "After applying this rule to our product ratings, we are left with a \"expected\" rating for each product."
   ]
  },
  {
   "cell_type": "code",
   "execution_count": null,
   "id": "a6e534c3",
   "metadata": {},
   "outputs": [],
   "source": [
    "# Look at the effect of this transformation\n",
    "product_ratings[[\"review_rating_mean\"]].plot.hist(bins=RATING_BINS)\n",
    "plt.title(\"Distribution of average review ratings per product (mean)\")\n",
    "plt.xlabel(\"Rating\")\n",
    "product_ratings[[\"review_rating_expected\"]].plot.hist(bins=RATING_BINS)\n",
    "plt.title(\"Distribution of expected review ratings per product (Laplace)\")\n",
    "plt.xlabel(\"Rating\")\n",
    "\n",
    "plt.show()"
   ]
  },
  {
   "cell_type": "markdown",
   "id": "27d98632",
   "metadata": {},
   "source": [
    "## Now go back and generate recommendations using this new 'expected' rating"
   ]
  }
 ],
 "metadata": {
  "kernelspec": {
   "display_name": "indabax-2025",
   "language": "python",
   "name": "python3"
  },
  "language_info": {
   "codemirror_mode": {
    "name": "ipython",
    "version": 3
   },
   "file_extension": ".py",
   "mimetype": "text/x-python",
   "name": "python",
   "nbconvert_exporter": "python",
   "pygments_lexer": "ipython3",
   "version": "3.10.17"
  }
 },
 "nbformat": 4,
 "nbformat_minor": 5
}
